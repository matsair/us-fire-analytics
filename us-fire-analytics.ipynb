{
 "cells": [
  {
   "cell_type": "code",
   "execution_count": 1,
   "metadata": {},
   "outputs": [],
   "source": [
    "import json\n",
    "import configparser\n",
    "import pandas as pd\n",
    "import sqlite3\n",
    "import pandas_redshift as pr"
   ]
  },
  {
   "cell_type": "markdown",
   "metadata": {},
   "source": [
    "# Project US Fire Analytics: Overview\n",
    "\n",
    "In the recent years, fires have been raging in the United States, especially in California. In this project I explore fires in the US and hope to provide information on how many people were affected by those fires.\n",
    "I found an interesting data set, providing specifics on fires in the United States from 1992 to 2015. This data can be combined with demographic data from the United States Census Bureau, to provide an estimate on how many people (based on county population) were affected by fires."
   ]
  },
  {
   "cell_type": "markdown",
   "metadata": {},
   "source": [
    "# Datasets\n",
    "\n",
    "## US fire data\n",
    "Short, Karen C. 2017. Spatial wildfire occurrence data for the United States, 1992-2015 [FPAFOD20170508]. 4th Edition. Fort Collins, CO: Forest Service Research Data Archive. https://doi.org/10.2737/RDS-2013-0009.4\n",
    "\n",
    "Check here for more details: https://www.kaggle.com/rtatman/188-million-us-wildfires\n",
    "\n",
    "Format: SQLite database\n",
    "\n",
    "Direct link to data: https://www.kaggle.com/rtatman/188-million-us-wildfires/download\n",
    "\n",
    "## Demographic county data\n",
    "Annual County Resident Population Estimates by Age, Sex, Race, and Hispanic Origin: April 1, 2010 to July 1, 2019. https://www.census.gov/data/datasets/time-series/demo/popest/2010s-counties-detail.html\n",
    "\n",
    "Format: CSV-File\n",
    "\n",
    "Direct link to data: https://www2.census.gov/programs-surveys/popest/datasets/2010-2019/counties/asrh/cc-est2019-alldata.csv\n",
    "\n",
    "## State abbreviations to names data\n",
    "Mapping to facilitate connecting the data sets: https://github.com/jasonong/List-of-US-States\n",
    "\n",
    "Format: CSV-File\n",
    "\n",
    "Direct link to data: https://github.com/jasonong/List-of-US-States/blob/master/states.csv"
   ]
  },
  {
   "cell_type": "markdown",
   "metadata": {},
   "source": [
    "# Exploring the downloaded data\n",
    "## US fire data"
   ]
  },
  {
   "cell_type": "code",
   "execution_count": 2,
   "metadata": {},
   "outputs": [
    {
     "name": "stdout",
     "output_type": "stream",
     "text": [
      "CPU times: user 31.6 s, sys: 3.62 s, total: 35.2 s\n",
      "Wall time: 37 s\n"
     ]
    }
   ],
   "source": [
    "%%time\n",
    "df_fires = pd.read_sql_query(\"SELECT * FROM Fires\", sqlite3.connect('FPA_FOD_20170508.sqlite'))"
   ]
  },
  {
   "cell_type": "code",
   "execution_count": 3,
   "metadata": {},
   "outputs": [
    {
     "data": {
      "text/plain": [
       "(1880465, 39)"
      ]
     },
     "execution_count": 3,
     "metadata": {},
     "output_type": "execute_result"
    }
   ],
   "source": [
    "df_fires.shape"
   ]
  },
  {
   "cell_type": "code",
   "execution_count": 4,
   "metadata": {},
   "outputs": [
    {
     "name": "stdout",
     "output_type": "stream",
     "text": [
      "Columns\n"
     ]
    },
    {
     "data": {
      "text/plain": [
       "['OBJECTID',\n",
       " 'FOD_ID',\n",
       " 'FPA_ID',\n",
       " 'SOURCE_SYSTEM_TYPE',\n",
       " 'SOURCE_SYSTEM',\n",
       " 'NWCG_REPORTING_AGENCY',\n",
       " 'NWCG_REPORTING_UNIT_ID',\n",
       " 'NWCG_REPORTING_UNIT_NAME',\n",
       " 'SOURCE_REPORTING_UNIT',\n",
       " 'SOURCE_REPORTING_UNIT_NAME',\n",
       " 'LOCAL_FIRE_REPORT_ID',\n",
       " 'LOCAL_INCIDENT_ID',\n",
       " 'FIRE_CODE',\n",
       " 'FIRE_NAME',\n",
       " 'ICS_209_INCIDENT_NUMBER',\n",
       " 'ICS_209_NAME',\n",
       " 'MTBS_ID',\n",
       " 'MTBS_FIRE_NAME',\n",
       " 'COMPLEX_NAME',\n",
       " 'FIRE_YEAR',\n",
       " 'DISCOVERY_DATE',\n",
       " 'DISCOVERY_DOY',\n",
       " 'DISCOVERY_TIME',\n",
       " 'STAT_CAUSE_CODE',\n",
       " 'STAT_CAUSE_DESCR',\n",
       " 'CONT_DATE',\n",
       " 'CONT_DOY',\n",
       " 'CONT_TIME',\n",
       " 'FIRE_SIZE',\n",
       " 'FIRE_SIZE_CLASS',\n",
       " 'LATITUDE',\n",
       " 'LONGITUDE',\n",
       " 'OWNER_CODE',\n",
       " 'OWNER_DESCR',\n",
       " 'STATE',\n",
       " 'COUNTY',\n",
       " 'FIPS_CODE',\n",
       " 'FIPS_NAME',\n",
       " 'Shape']"
      ]
     },
     "execution_count": 4,
     "metadata": {},
     "output_type": "execute_result"
    }
   ],
   "source": [
    "print('Columns')\n",
    "[col for col in df_fires.columns]"
   ]
  },
  {
   "cell_type": "code",
   "execution_count": 5,
   "metadata": {},
   "outputs": [
    {
     "data": {
      "text/html": [
       "<div>\n",
       "<style scoped>\n",
       "    .dataframe tbody tr th:only-of-type {\n",
       "        vertical-align: middle;\n",
       "    }\n",
       "\n",
       "    .dataframe tbody tr th {\n",
       "        vertical-align: top;\n",
       "    }\n",
       "\n",
       "    .dataframe thead th {\n",
       "        text-align: right;\n",
       "    }\n",
       "</style>\n",
       "<table border=\"1\" class=\"dataframe\">\n",
       "  <thead>\n",
       "    <tr style=\"text-align: right;\">\n",
       "      <th></th>\n",
       "      <th>OBJECTID</th>\n",
       "      <th>FOD_ID</th>\n",
       "      <th>FPA_ID</th>\n",
       "      <th>SOURCE_SYSTEM_TYPE</th>\n",
       "      <th>SOURCE_SYSTEM</th>\n",
       "      <th>NWCG_REPORTING_AGENCY</th>\n",
       "      <th>NWCG_REPORTING_UNIT_ID</th>\n",
       "      <th>NWCG_REPORTING_UNIT_NAME</th>\n",
       "      <th>SOURCE_REPORTING_UNIT</th>\n",
       "      <th>SOURCE_REPORTING_UNIT_NAME</th>\n",
       "      <th>...</th>\n",
       "      <th>FIRE_SIZE_CLASS</th>\n",
       "      <th>LATITUDE</th>\n",
       "      <th>LONGITUDE</th>\n",
       "      <th>OWNER_CODE</th>\n",
       "      <th>OWNER_DESCR</th>\n",
       "      <th>STATE</th>\n",
       "      <th>COUNTY</th>\n",
       "      <th>FIPS_CODE</th>\n",
       "      <th>FIPS_NAME</th>\n",
       "      <th>Shape</th>\n",
       "    </tr>\n",
       "  </thead>\n",
       "  <tbody>\n",
       "    <tr>\n",
       "      <th>0</th>\n",
       "      <td>1</td>\n",
       "      <td>1</td>\n",
       "      <td>FS-1418826</td>\n",
       "      <td>FED</td>\n",
       "      <td>FS-FIRESTAT</td>\n",
       "      <td>FS</td>\n",
       "      <td>USCAPNF</td>\n",
       "      <td>Plumas National Forest</td>\n",
       "      <td>0511</td>\n",
       "      <td>Plumas National Forest</td>\n",
       "      <td>...</td>\n",
       "      <td>A</td>\n",
       "      <td>40.036944</td>\n",
       "      <td>-121.005833</td>\n",
       "      <td>5.0</td>\n",
       "      <td>USFS</td>\n",
       "      <td>CA</td>\n",
       "      <td>63</td>\n",
       "      <td>063</td>\n",
       "      <td>Plumas</td>\n",
       "      <td>b'\\x00\\x01\\xad\\x10\\x00\\x00\\xe8d\\xc2\\x92_@^\\xc0...</td>\n",
       "    </tr>\n",
       "    <tr>\n",
       "      <th>1</th>\n",
       "      <td>2</td>\n",
       "      <td>2</td>\n",
       "      <td>FS-1418827</td>\n",
       "      <td>FED</td>\n",
       "      <td>FS-FIRESTAT</td>\n",
       "      <td>FS</td>\n",
       "      <td>USCAENF</td>\n",
       "      <td>Eldorado National Forest</td>\n",
       "      <td>0503</td>\n",
       "      <td>Eldorado National Forest</td>\n",
       "      <td>...</td>\n",
       "      <td>A</td>\n",
       "      <td>38.933056</td>\n",
       "      <td>-120.404444</td>\n",
       "      <td>5.0</td>\n",
       "      <td>USFS</td>\n",
       "      <td>CA</td>\n",
       "      <td>61</td>\n",
       "      <td>061</td>\n",
       "      <td>Placer</td>\n",
       "      <td>b'\\x00\\x01\\xad\\x10\\x00\\x00T\\xb6\\xeej\\xe2\\x19^\\...</td>\n",
       "    </tr>\n",
       "  </tbody>\n",
       "</table>\n",
       "<p>2 rows × 39 columns</p>\n",
       "</div>"
      ],
      "text/plain": [
       "   OBJECTID  FOD_ID      FPA_ID SOURCE_SYSTEM_TYPE SOURCE_SYSTEM  \\\n",
       "0         1       1  FS-1418826                FED   FS-FIRESTAT   \n",
       "1         2       2  FS-1418827                FED   FS-FIRESTAT   \n",
       "\n",
       "  NWCG_REPORTING_AGENCY NWCG_REPORTING_UNIT_ID  NWCG_REPORTING_UNIT_NAME  \\\n",
       "0                    FS                USCAPNF    Plumas National Forest   \n",
       "1                    FS                USCAENF  Eldorado National Forest   \n",
       "\n",
       "  SOURCE_REPORTING_UNIT SOURCE_REPORTING_UNIT_NAME  ... FIRE_SIZE_CLASS  \\\n",
       "0                  0511     Plumas National Forest  ...               A   \n",
       "1                  0503   Eldorado National Forest  ...               A   \n",
       "\n",
       "    LATITUDE   LONGITUDE OWNER_CODE OWNER_DESCR STATE COUNTY FIPS_CODE  \\\n",
       "0  40.036944 -121.005833        5.0        USFS    CA     63       063   \n",
       "1  38.933056 -120.404444        5.0        USFS    CA     61       061   \n",
       "\n",
       "  FIPS_NAME                                              Shape  \n",
       "0    Plumas  b'\\x00\\x01\\xad\\x10\\x00\\x00\\xe8d\\xc2\\x92_@^\\xc0...  \n",
       "1    Placer  b'\\x00\\x01\\xad\\x10\\x00\\x00T\\xb6\\xeej\\xe2\\x19^\\...  \n",
       "\n",
       "[2 rows x 39 columns]"
      ]
     },
     "execution_count": 5,
     "metadata": {},
     "output_type": "execute_result"
    }
   ],
   "source": [
    "df_fires.head(2)"
   ]
  },
  {
   "cell_type": "code",
   "execution_count": 6,
   "metadata": {},
   "outputs": [
    {
     "name": "stdout",
     "output_type": "stream",
     "text": [
      "Checking for missing data\n"
     ]
    },
    {
     "data": {
      "text/plain": [
       "OBJECTID                            0\n",
       "FOD_ID                              0\n",
       "FPA_ID                              0\n",
       "SOURCE_SYSTEM_TYPE                  0\n",
       "SOURCE_SYSTEM                       0\n",
       "NWCG_REPORTING_AGENCY               0\n",
       "NWCG_REPORTING_UNIT_ID              0\n",
       "NWCG_REPORTING_UNIT_NAME            0\n",
       "SOURCE_REPORTING_UNIT               0\n",
       "SOURCE_REPORTING_UNIT_NAME          0\n",
       "LOCAL_FIRE_REPORT_ID          1459286\n",
       "LOCAL_INCIDENT_ID              820821\n",
       "FIRE_CODE                     1555636\n",
       "FIRE_NAME                      957189\n",
       "ICS_209_INCIDENT_NUMBER       1854748\n",
       "ICS_209_NAME                  1854748\n",
       "MTBS_ID                       1869462\n",
       "MTBS_FIRE_NAME                1869462\n",
       "COMPLEX_NAME                  1875282\n",
       "FIRE_YEAR                           0\n",
       "DISCOVERY_DATE                      0\n",
       "DISCOVERY_DOY                       0\n",
       "DISCOVERY_TIME                 882638\n",
       "STAT_CAUSE_CODE                     0\n",
       "STAT_CAUSE_DESCR                    0\n",
       "CONT_DATE                      891531\n",
       "CONT_DOY                       891531\n",
       "CONT_TIME                      972173\n",
       "FIRE_SIZE                           0\n",
       "FIRE_SIZE_CLASS                     0\n",
       "LATITUDE                            0\n",
       "LONGITUDE                           0\n",
       "OWNER_CODE                          0\n",
       "OWNER_DESCR                         0\n",
       "STATE                               0\n",
       "COUNTY                         678148\n",
       "FIPS_CODE                      678148\n",
       "FIPS_NAME                      678148\n",
       "Shape                               0\n",
       "dtype: int64"
      ]
     },
     "execution_count": 6,
     "metadata": {},
     "output_type": "execute_result"
    }
   ],
   "source": [
    "print('Checking for missing data')\n",
    "df_fires.isna().sum()"
   ]
  },
  {
   "cell_type": "code",
   "execution_count": 7,
   "metadata": {},
   "outputs": [
    {
     "data": {
      "text/plain": [
       "(1992, 2015)"
      ]
     },
     "execution_count": 7,
     "metadata": {},
     "output_type": "execute_result"
    }
   ],
   "source": [
    "df_fires['FIRE_YEAR'].min(), df_fires['FIRE_YEAR'].max()"
   ]
  },
  {
   "cell_type": "code",
   "execution_count": 8,
   "metadata": {},
   "outputs": [
    {
     "data": {
      "text/plain": [
       "<AxesSubplot:>"
      ]
     },
     "execution_count": 8,
     "metadata": {},
     "output_type": "execute_result"
    },
    {
     "data": {
      "image/png": "[encoded data removed]",
      "text/plain": [
       "<Figure size 432x288 with 1 Axes>"
      ]
     },
     "metadata": {
      "needs_background": "light"
     },
     "output_type": "display_data"
    }
   ],
   "source": [
    "df_fires['STAT_CAUSE_DESCR'].value_counts(ascending=True).plot(kind='barh', color='coral')"
   ]
  },
  {
   "cell_type": "code",
   "execution_count": 9,
   "metadata": {},
   "outputs": [
    {
     "data": {
      "text/plain": [
       "CA    189550\n",
       "GA    168867\n",
       "TX    142021\n",
       "NC    111277\n",
       "FL     90261\n",
       "SC     81315\n",
       "NY     80870\n",
       "MS     79230\n",
       "AZ     71586\n",
       "Name: STATE, dtype: int64"
      ]
     },
     "execution_count": 9,
     "metadata": {},
     "output_type": "execute_result"
    }
   ],
   "source": [
    "df_fires['STATE'].value_counts(normalize=False)[0:9]"
   ]
  },
  {
   "cell_type": "markdown",
   "metadata": {},
   "source": [
    "## County demographics data"
   ]
  },
  {
   "cell_type": "code",
   "execution_count": 10,
   "metadata": {},
   "outputs": [],
   "source": [
    "df_c = pd.read_csv('cc-est2019-alldata.csv', encoding='latin-1')"
   ]
  },
  {
   "cell_type": "code",
   "execution_count": 11,
   "metadata": {},
   "outputs": [
    {
     "data": {
      "text/html": [
       "<div>\n",
       "<style scoped>\n",
       "    .dataframe tbody tr th:only-of-type {\n",
       "        vertical-align: middle;\n",
       "    }\n",
       "\n",
       "    .dataframe tbody tr th {\n",
       "        vertical-align: top;\n",
       "    }\n",
       "\n",
       "    .dataframe thead th {\n",
       "        text-align: right;\n",
       "    }\n",
       "</style>\n",
       "<table border=\"1\" class=\"dataframe\">\n",
       "  <thead>\n",
       "    <tr style=\"text-align: right;\">\n",
       "      <th></th>\n",
       "      <th>SUMLEV</th>\n",
       "      <th>STATE</th>\n",
       "      <th>COUNTY</th>\n",
       "      <th>STNAME</th>\n",
       "      <th>CTYNAME</th>\n",
       "      <th>YEAR</th>\n",
       "      <th>AGEGRP</th>\n",
       "      <th>TOT_POP</th>\n",
       "      <th>TOT_MALE</th>\n",
       "      <th>TOT_FEMALE</th>\n",
       "      <th>...</th>\n",
       "      <th>HWAC_MALE</th>\n",
       "      <th>HWAC_FEMALE</th>\n",
       "      <th>HBAC_MALE</th>\n",
       "      <th>HBAC_FEMALE</th>\n",
       "      <th>HIAC_MALE</th>\n",
       "      <th>HIAC_FEMALE</th>\n",
       "      <th>HAAC_MALE</th>\n",
       "      <th>HAAC_FEMALE</th>\n",
       "      <th>HNAC_MALE</th>\n",
       "      <th>HNAC_FEMALE</th>\n",
       "    </tr>\n",
       "  </thead>\n",
       "  <tbody>\n",
       "    <tr>\n",
       "      <th>0</th>\n",
       "      <td>50</td>\n",
       "      <td>1</td>\n",
       "      <td>1</td>\n",
       "      <td>Alabama</td>\n",
       "      <td>Autauga County</td>\n",
       "      <td>1</td>\n",
       "      <td>0</td>\n",
       "      <td>54571</td>\n",
       "      <td>26569</td>\n",
       "      <td>28002</td>\n",
       "      <td>...</td>\n",
       "      <td>607</td>\n",
       "      <td>538</td>\n",
       "      <td>57</td>\n",
       "      <td>48</td>\n",
       "      <td>26</td>\n",
       "      <td>32</td>\n",
       "      <td>9</td>\n",
       "      <td>11</td>\n",
       "      <td>19</td>\n",
       "      <td>10</td>\n",
       "    </tr>\n",
       "    <tr>\n",
       "      <th>1</th>\n",
       "      <td>50</td>\n",
       "      <td>1</td>\n",
       "      <td>1</td>\n",
       "      <td>Alabama</td>\n",
       "      <td>Autauga County</td>\n",
       "      <td>1</td>\n",
       "      <td>1</td>\n",
       "      <td>3579</td>\n",
       "      <td>1866</td>\n",
       "      <td>1713</td>\n",
       "      <td>...</td>\n",
       "      <td>77</td>\n",
       "      <td>56</td>\n",
       "      <td>9</td>\n",
       "      <td>5</td>\n",
       "      <td>4</td>\n",
       "      <td>1</td>\n",
       "      <td>0</td>\n",
       "      <td>0</td>\n",
       "      <td>2</td>\n",
       "      <td>1</td>\n",
       "    </tr>\n",
       "    <tr>\n",
       "      <th>2</th>\n",
       "      <td>50</td>\n",
       "      <td>1</td>\n",
       "      <td>1</td>\n",
       "      <td>Alabama</td>\n",
       "      <td>Autauga County</td>\n",
       "      <td>1</td>\n",
       "      <td>2</td>\n",
       "      <td>3991</td>\n",
       "      <td>2001</td>\n",
       "      <td>1990</td>\n",
       "      <td>...</td>\n",
       "      <td>64</td>\n",
       "      <td>66</td>\n",
       "      <td>2</td>\n",
       "      <td>3</td>\n",
       "      <td>2</td>\n",
       "      <td>7</td>\n",
       "      <td>2</td>\n",
       "      <td>3</td>\n",
       "      <td>2</td>\n",
       "      <td>0</td>\n",
       "    </tr>\n",
       "    <tr>\n",
       "      <th>3</th>\n",
       "      <td>50</td>\n",
       "      <td>1</td>\n",
       "      <td>1</td>\n",
       "      <td>Alabama</td>\n",
       "      <td>Autauga County</td>\n",
       "      <td>1</td>\n",
       "      <td>3</td>\n",
       "      <td>4290</td>\n",
       "      <td>2171</td>\n",
       "      <td>2119</td>\n",
       "      <td>...</td>\n",
       "      <td>51</td>\n",
       "      <td>57</td>\n",
       "      <td>13</td>\n",
       "      <td>7</td>\n",
       "      <td>5</td>\n",
       "      <td>5</td>\n",
       "      <td>2</td>\n",
       "      <td>1</td>\n",
       "      <td>1</td>\n",
       "      <td>1</td>\n",
       "    </tr>\n",
       "    <tr>\n",
       "      <th>4</th>\n",
       "      <td>50</td>\n",
       "      <td>1</td>\n",
       "      <td>1</td>\n",
       "      <td>Alabama</td>\n",
       "      <td>Autauga County</td>\n",
       "      <td>1</td>\n",
       "      <td>4</td>\n",
       "      <td>4290</td>\n",
       "      <td>2213</td>\n",
       "      <td>2077</td>\n",
       "      <td>...</td>\n",
       "      <td>48</td>\n",
       "      <td>44</td>\n",
       "      <td>7</td>\n",
       "      <td>5</td>\n",
       "      <td>0</td>\n",
       "      <td>2</td>\n",
       "      <td>2</td>\n",
       "      <td>1</td>\n",
       "      <td>3</td>\n",
       "      <td>1</td>\n",
       "    </tr>\n",
       "  </tbody>\n",
       "</table>\n",
       "<p>5 rows × 80 columns</p>\n",
       "</div>"
      ],
      "text/plain": [
       "   SUMLEV  STATE  COUNTY   STNAME         CTYNAME  YEAR  AGEGRP  TOT_POP  \\\n",
       "0      50      1       1  Alabama  Autauga County     1       0    54571   \n",
       "1      50      1       1  Alabama  Autauga County     1       1     3579   \n",
       "2      50      1       1  Alabama  Autauga County     1       2     3991   \n",
       "3      50      1       1  Alabama  Autauga County     1       3     4290   \n",
       "4      50      1       1  Alabama  Autauga County     1       4     4290   \n",
       "\n",
       "   TOT_MALE  TOT_FEMALE  ...  HWAC_MALE  HWAC_FEMALE  HBAC_MALE  HBAC_FEMALE  \\\n",
       "0     26569       28002  ...        607          538         57           48   \n",
       "1      1866        1713  ...         77           56          9            5   \n",
       "2      2001        1990  ...         64           66          2            3   \n",
       "3      2171        2119  ...         51           57         13            7   \n",
       "4      2213        2077  ...         48           44          7            5   \n",
       "\n",
       "   HIAC_MALE  HIAC_FEMALE  HAAC_MALE  HAAC_FEMALE  HNAC_MALE  HNAC_FEMALE  \n",
       "0         26           32          9           11         19           10  \n",
       "1          4            1          0            0          2            1  \n",
       "2          2            7          2            3          2            0  \n",
       "3          5            5          2            1          1            1  \n",
       "4          0            2          2            1          3            1  \n",
       "\n",
       "[5 rows x 80 columns]"
      ]
     },
     "execution_count": 11,
     "metadata": {},
     "output_type": "execute_result"
    }
   ],
   "source": [
    "df_c.head(5)"
   ]
  },
  {
   "cell_type": "markdown",
   "metadata": {},
   "source": [
    "## State abbreviations to names data"
   ]
  },
  {
   "cell_type": "code",
   "execution_count": 12,
   "metadata": {},
   "outputs": [],
   "source": [
    "df_states = pd.read_csv('states.csv', index_col='State')"
   ]
  },
  {
   "cell_type": "code",
   "execution_count": 13,
   "metadata": {},
   "outputs": [
    {
     "data": {
      "text/html": [
       "<div>\n",
       "<style scoped>\n",
       "    .dataframe tbody tr th:only-of-type {\n",
       "        vertical-align: middle;\n",
       "    }\n",
       "\n",
       "    .dataframe tbody tr th {\n",
       "        vertical-align: top;\n",
       "    }\n",
       "\n",
       "    .dataframe thead th {\n",
       "        text-align: right;\n",
       "    }\n",
       "</style>\n",
       "<table border=\"1\" class=\"dataframe\">\n",
       "  <thead>\n",
       "    <tr style=\"text-align: right;\">\n",
       "      <th></th>\n",
       "      <th>Abbreviation</th>\n",
       "    </tr>\n",
       "    <tr>\n",
       "      <th>State</th>\n",
       "      <th></th>\n",
       "    </tr>\n",
       "  </thead>\n",
       "  <tbody>\n",
       "    <tr>\n",
       "      <th>Alabama</th>\n",
       "      <td>AL</td>\n",
       "    </tr>\n",
       "    <tr>\n",
       "      <th>Alaska</th>\n",
       "      <td>AK</td>\n",
       "    </tr>\n",
       "    <tr>\n",
       "      <th>Arizona</th>\n",
       "      <td>AZ</td>\n",
       "    </tr>\n",
       "    <tr>\n",
       "      <th>Arkansas</th>\n",
       "      <td>AR</td>\n",
       "    </tr>\n",
       "    <tr>\n",
       "      <th>California</th>\n",
       "      <td>CA</td>\n",
       "    </tr>\n",
       "  </tbody>\n",
       "</table>\n",
       "</div>"
      ],
      "text/plain": [
       "           Abbreviation\n",
       "State                  \n",
       "Alabama              AL\n",
       "Alaska               AK\n",
       "Arizona              AZ\n",
       "Arkansas             AR\n",
       "California           CA"
      ]
     },
     "execution_count": 13,
     "metadata": {},
     "output_type": "execute_result"
    }
   ],
   "source": [
    "df_states.head(5)"
   ]
  },
  {
   "cell_type": "markdown",
   "metadata": {},
   "source": [
    "# Data Model\n",
    "I decided on a star schema data model, with the fire data populating the fact table. Each fire has two dimensions, county demographics and time. The star schema allows for further enrichment of the data, once new data sources are discovered and want to be connected.\n",
    "\n",
    "To achieve the desired schema, it is necessary to extract information from the fires database and load the result into the fact table. Second, the demographics data must be connected to the fact table using the FIPS code and the state in the us_fires table. For this, we need the _state abbreviations to names data_. The time table can be created based on the discovery date in the us_fires table.\n",
    "\n",
    "The final data resides in Redshift, so the data types correspond to Redshift data types.\n",
    "\n",
    "No primary key was chosen for the us_fires table because it seems like an unnecassary constraint. Although unlikely, a second fire could start at the same place on the same day, making a duplicate possible. It is recommended to work with duplicates, if they arise, during queries on Redshift post-ETL."
   ]
  },
  {
   "cell_type": "markdown",
   "metadata": {},
   "source": [
    "![data-model](dbschema.png \"Final DB Schema\")"
   ]
  },
  {
   "cell_type": "markdown",
   "metadata": {},
   "source": [
    "# Data Dictionary"
   ]
  },
  {
   "cell_type": "markdown",
   "metadata": {},
   "source": [
    "| Table   | Column        | Data Type           | Description  |\n",
    "|-------- | ------------- |:-------------|:-----|\n",
    "|us_fires | fire_year     | INT | Calendar year in which the fire was discovered or confirmed to exist. |\n",
    "|us_fires | fire_name     | VARCHAR      |   Name of the incident. |\n",
    "|us_fires | stat_cause_descr | VARCHAR      |   Description of the cause of the fire. |\n",
    "|us_fires | fire_size | REAL  | Estimate of acres within the final perimeter of the fire. |\n",
    "|us_fires | fire_size_class | VARCHAR | Code for fire size based on the number of acres within the final fire perimeter expenditures (A=greater than 0 but less than or equal to 0.25 acres, B=0.26-9.9 acres, C=10.0-99.9 acres, D=100-299 acres, E=300 to 999 acres, F=1000 to 4999 acres, and G=5000+ acres). |\n",
    "|us_fires | fire_code | VARCHAR | Code used within the interagency wildland fire community to track and compile cost information for emergency fire suppression (https://www.firecode.gov/).|\n",
    "|us_fires | latitude | REAL | Latitude (NAD83) for point location of the fire (decimal degrees).|\n",
    "|us_fires | longitude | REAL | Longitude (NAD83) for point location of the fire (decimal degrees). |\n",
    "|us_fires | fips_code | INT | Code from the Federal Information Process Standards (FIPS) publication 6-4 for representation of counties and equivalent entities. |\n",
    "|us_fires | state | VARCHAR | Two-letter alphabetic code for the state in which the fire burned (or originated), based on the nominal designation in the fire report. |\n",
    "|us_fires | discovery_date | DATE | Date on which the fire was discovered or confirmed to exist. |\n",
    "|county_demographics | fips_code | INT | Code from the Federal Information Process Standards (FIPS) publication 6-4 for representation of counties and equivalent entities. |\n",
    "|county_demographics | county_name | VARCHAR | Name of the county. |\n",
    "|county_demographics | state_abbr | VARCHAR | Abbrevation of the US state. |\n",
    "|county_demographics | state_name | VARCHAR | Name of the US state. |\n",
    "|county_demographics | total_population | INT | Estimated total population of the county in 2019. |\n",
    "|time | discovery_date | DATE | Date on which the fire was discovered or confirmed to exist. |\n",
    "|time | year | INT | Year of discovery date. |\n",
    "|time | month | INT | Month of discovery date. |\n",
    "|time | day | INT | Day of discovery date. |\n",
    "|time | week | INT | Week of discovery date. |\n",
    "|time | weekday | INT | Weekday of discovery date. |"
   ]
  },
  {
   "cell_type": "markdown",
   "metadata": {},
   "source": [
    "# ETL"
   ]
  },
  {
   "cell_type": "markdown",
   "metadata": {},
   "source": [
    "## Prepare data - county demographics"
   ]
  },
  {
   "cell_type": "code",
   "execution_count": 14,
   "metadata": {},
   "outputs": [],
   "source": [
    "# select only relevant county demographics data: total and for the most recent year\n",
    "df_c = df_c.loc[(df_c['AGEGRP'] == 0) & (df_c['YEAR'] == 12)]"
   ]
  },
  {
   "cell_type": "code",
   "execution_count": 15,
   "metadata": {},
   "outputs": [],
   "source": [
    "# create mapping of state name to state abbreviation\n",
    "states = df_states.to_dict()['Abbreviation']\n",
    "# map state name to abbreviation\n",
    "df_c['STABBR'] = df_c['STNAME'].apply(lambda x: states[x])"
   ]
  },
  {
   "cell_type": "code",
   "execution_count": 16,
   "metadata": {},
   "outputs": [],
   "source": [
    "# select and rename columns to match data model\n",
    "final_df_c = df_c[['COUNTY', 'CTYNAME', 'STABBR', 'STNAME', 'TOT_POP']]\n",
    "final_df_c.columns = ['fips_code', 'county_name', 'state_abbr', 'state_name', 'total_pop']"
   ]
  },
  {
   "cell_type": "markdown",
   "metadata": {},
   "source": [
    "## Prepare data - US fires"
   ]
  },
  {
   "cell_type": "code",
   "execution_count": 17,
   "metadata": {},
   "outputs": [],
   "source": [
    "# remove rows which have important missing columns\n",
    "df_fires.dropna(subset=['FIPS_CODE', 'DISCOVERY_DATE'], inplace=True)"
   ]
  },
  {
   "cell_type": "code",
   "execution_count": 18,
   "metadata": {},
   "outputs": [],
   "source": [
    "# add time information for time table\n",
    "df_fires['DDATE'] = pd.to_datetime(df_fires['DISCOVERY_DATE'] - pd.Timestamp(0).to_julian_date(), unit='D')\n",
    "df_fires['DYEAR'] = df_fires['DDATE'].dt.year\n",
    "df_fires['DMONTH'] = df_fires['DDATE'].dt.month\n",
    "df_fires['DDAY'] = df_fires['DDATE'].dt.day\n",
    "df_fires['DWEEK'] = df_fires['DDATE'].dt.isocalendar().week\n",
    "df_fires['DWEEKDAY'] = df_fires['DDATE'].dt.weekday"
   ]
  },
  {
   "cell_type": "code",
   "execution_count": 19,
   "metadata": {},
   "outputs": [],
   "source": [
    "# convert fips code to int for better matching\n",
    "df_fires['FIPS_CODE'] = df_fires['FIPS_CODE'].apply(lambda x: int(x))"
   ]
  },
  {
   "cell_type": "code",
   "execution_count": 20,
   "metadata": {},
   "outputs": [],
   "source": [
    "# select and rename columns to match data model\n",
    "final_df_fires = df_fires[['FIRE_NAME', 'FIRE_YEAR', 'STAT_CAUSE_DESCR', 'FIRE_SIZE', \n",
    "                     'FIRE_SIZE_CLASS', 'FIRE_CODE', 'LATITUDE', 'LONGITUDE', 'FIPS_CODE', \n",
    "                     'STATE', 'DDATE']]\n",
    "\n",
    "final_df_fires.columns = ['fire_name', 'fire_year', 'stat_cause_descr', 'fire_size',\n",
    "                    'fire_size_class', 'fire_code', 'latitude', 'longitude', 'fips_code',\n",
    "                    'state', 'discovery_date']"
   ]
  },
  {
   "cell_type": "code",
   "execution_count": 21,
   "metadata": {},
   "outputs": [
    {
     "data": {
      "text/plain": [
       "False    1201260\n",
       "True        1057\n",
       "dtype: int64"
      ]
     },
     "execution_count": 21,
     "metadata": {},
     "output_type": "execute_result"
    }
   ],
   "source": [
    "# check for duplicates into final fires dataframe\n",
    "final_df_fires.duplicated().value_counts()"
   ]
  },
  {
   "cell_type": "code",
   "execution_count": 22,
   "metadata": {},
   "outputs": [],
   "source": [
    "# drop those duplicates\n",
    "final_df_fires = final_df_fires.drop_duplicates(keep='last')"
   ]
  },
  {
   "cell_type": "markdown",
   "metadata": {},
   "source": [
    "## Prepare data - time"
   ]
  },
  {
   "cell_type": "code",
   "execution_count": 23,
   "metadata": {},
   "outputs": [],
   "source": [
    "final_df_time = df_fires[['DDATE', 'DYEAR', 'DMONTH', 'DDAY', 'DWEEK', 'DWEEKDAY']]\n",
    "final_df_time.columns = ['discovery_date', 'year', 'month', 'day', 'week', 'weekday']\n",
    "final_df_time = final_df_time.drop_duplicates(keep='last')"
   ]
  },
  {
   "cell_type": "markdown",
   "metadata": {},
   "source": [
    "## Prepare AWS environment"
   ]
  },
  {
   "cell_type": "code",
   "execution_count": 24,
   "metadata": {},
   "outputs": [
    {
     "data": {
      "text/plain": [
       "['aws.cfg']"
      ]
     },
     "execution_count": 24,
     "metadata": {},
     "output_type": "execute_result"
    }
   ],
   "source": [
    "# get AWS credentials\n",
    "config = configparser.ConfigParser()\n",
    "config.read('aws.cfg')"
   ]
  },
  {
   "cell_type": "markdown",
   "metadata": {},
   "source": [
    "### Use the AWS CLI to create the AWS services\n",
    "\n",
    "### S3\n",
    "**create bucket**\n",
    "`aws s3 mb s3://usfireanalytics`\n",
    "\n",
    "_remove bucket_\n",
    "`aws s3 rb s3://usfireanalytics --force`\n",
    "\n",
    "\n",
    "### Redshift\n",
    "**create cluster**\n",
    "`aws redshift create-cluster --cluster-identifier usfireanalyticscluster --db-name usfireanalytics --port 5439 --master-username firenationleader --master-user-password set-in-aws.cfg --node-type dc2.large --cluster-type single-node --publicly-accessible`\n",
    "\n",
    "**check status**\n",
    "`aws redshift describe-clusters --cluster-identifier usfireanalyticscluster`\n",
    "\n",
    "_delete cluster_\n",
    "`aws redshift delete-cluster --cluster-identifier usfireanalyticscluster --skip-final-cluster-snapshot`"
   ]
  },
  {
   "cell_type": "code",
   "execution_count": 25,
   "metadata": {},
   "outputs": [],
   "source": [
    "# get cluster details\n",
    "# run `aws redshift describe-clusters --cluster-identifier usfireanalyticscluster > redshift_details.json`\n",
    "with open('redshift-details.json') as jsonfile:\n",
    "    cluster_details = json.load(jsonfile)"
   ]
  },
  {
   "cell_type": "code",
   "execution_count": 26,
   "metadata": {},
   "outputs": [],
   "source": [
    "pr.connect_to_s3(aws_access_key_id = config['AWS']['KEY'],\n",
    "                 aws_secret_access_key = config['AWS']['SECRET'],\n",
    "                 bucket = 'usfireanalytics'\n",
    "                )"
   ]
  },
  {
   "cell_type": "code",
   "execution_count": 27,
   "metadata": {},
   "outputs": [],
   "source": [
    "pr.connect_to_redshift(dbname = cluster_details['Clusters'][0]['DBName'],\n",
    "                       host = cluster_details['Clusters'][0]['Endpoint']['Address'],\n",
    "                       port = cluster_details['Clusters'][0]['Endpoint']['Port'],\n",
    "                       user = cluster_details['Clusters'][0]['MasterUsername'],\n",
    "                       password = config['REDSHIFT']['PASSWORD']\n",
    "                      )"
   ]
  },
  {
   "cell_type": "code",
   "execution_count": 28,
   "metadata": {},
   "outputs": [],
   "source": [
    "# set the right Redshift data types for each data set\n",
    "data_types_fire = ['VARCHAR', 'INT', 'VARCHAR', 'REAL', 'VARCHAR', 'VARCHAR', 'REAL', 'REAL', 'INT', 'VARCHAR', 'DATE']\n",
    "data_types_dems = ['INT', 'VARCHAR', 'VARCHAR', 'VARCHAR', 'INT']\n",
    "data_types_time = ['DATE', 'INT', 'INT', 'INT', 'INT', 'INT']"
   ]
  },
  {
   "cell_type": "markdown",
   "metadata": {},
   "source": [
    "## Run ETL\n",
    "Copies data to S3 and from there to Redshift using [pandas_redshift](https://github.com/agawronski/pandas_redshift)"
   ]
  },
  {
   "cell_type": "code",
   "execution_count": 29,
   "metadata": {},
   "outputs": [
    {
     "name": "stderr",
     "output_type": "stream",
     "text": [
      "Pandas Redshift | 2020-12-04 14:19:42,798 | pandas_redshift.core | INFO | saved file us_fires-9e4a8b30-aa63-4d8f-be85-bacabe706a84.csv in bucket us_fires-9e4a8b30-aa63-4d8f-be85-bacabe706a84.csv\n",
      "Pandas Redshift | 2020-12-04 14:19:42,813 | pandas_redshift.core | INFO | create table us_fires (fire_name VARCHAR, fire_year INT, stat_cause_descr VARCHAR, fire_size REAL, fire_size_class VARCHAR, fire_code VARCHAR, latitude REAL, longitude REAL, fips_code INT, state VARCHAR, discovery_date DATE) diststyle even\n",
      "Pandas Redshift | 2020-12-04 14:19:42,814 | pandas_redshift.core | INFO | CREATING A TABLE IN REDSHIFT\n",
      "Pandas Redshift | 2020-12-04 14:19:43,012 | pandas_redshift.core | INFO | \n",
      "    copy us_fires\n",
      "    from 's3://usfireanalytics/us_fires-9e4a8b30-aa63-4d8f-be85-bacabe706a84.csv'\n",
      "    delimiter ','\n",
      "    ignoreheader 1\n",
      "    csv quote as '\"'\n",
      "    dateformat 'YYYY-MM-DD'\n",
      "    timeformat 'auto'\n",
      "    \n",
      "        access_key_id '********'\n",
      "        secret_access_key '********'\n",
      "        \n",
      "    \n",
      "    ;\n",
      "Pandas Redshift | 2020-12-04 14:19:43,013 | pandas_redshift.core | INFO | FILLING THE TABLE IN REDSHIFT\n"
     ]
    }
   ],
   "source": [
    "pr.pandas_to_redshift(final_df_fires,\n",
    "                        'us_fires',\n",
    "                        # Defaults:\n",
    "                        column_data_types = data_types_fire, # A list of column data types. As of 2.0.0 If not supplied the data types will be inferred from the DataFrame dtypes\n",
    "                        index = False,\n",
    "                        save_local = False, # If set to True a csv from the data frame will save in the current directory\n",
    "                        delimiter = ',',\n",
    "                        quotechar = '\"',\n",
    "                        dateformat = 'YYYY-MM-DD',\n",
    "                        timeformat = 'auto',\n",
    "                        region = '',\n",
    "                        append = False)"
   ]
  },
  {
   "cell_type": "code",
   "execution_count": 30,
   "metadata": {},
   "outputs": [
    {
     "name": "stderr",
     "output_type": "stream",
     "text": [
      "Pandas Redshift | 2020-12-04 14:19:50,172 | pandas_redshift.core | INFO | saved file county_demographics-5872ea43-d8be-4096-97eb-583ef4ee52ac.csv in bucket county_demographics-5872ea43-d8be-4096-97eb-583ef4ee52ac.csv\n",
      "Pandas Redshift | 2020-12-04 14:19:50,173 | pandas_redshift.core | INFO | create table county_demographics (fips_code INT, county_name VARCHAR, state_abbr VARCHAR, state_name VARCHAR, total_pop INT) diststyle even\n",
      "Pandas Redshift | 2020-12-04 14:19:50,174 | pandas_redshift.core | INFO | CREATING A TABLE IN REDSHIFT\n",
      "Pandas Redshift | 2020-12-04 14:19:50,326 | pandas_redshift.core | INFO | \n",
      "    copy county_demographics\n",
      "    from 's3://usfireanalytics/county_demographics-5872ea43-d8be-4096-97eb-583ef4ee52ac.csv'\n",
      "    delimiter ','\n",
      "    ignoreheader 1\n",
      "    csv quote as '\"'\n",
      "    dateformat 'YYYY-MM-DD'\n",
      "    timeformat 'auto'\n",
      "    \n",
      "        access_key_id '********'\n",
      "        secret_access_key '********'\n",
      "        \n",
      "    \n",
      "    ;\n",
      "Pandas Redshift | 2020-12-04 14:19:50,328 | pandas_redshift.core | INFO | FILLING THE TABLE IN REDSHIFT\n"
     ]
    }
   ],
   "source": [
    "pr.pandas_to_redshift(final_df_c,\n",
    "                        'county_demographics',\n",
    "                        # Defaults:\n",
    "                        column_data_types = data_types_dems, # A list of column data types. As of 2.0.0 If not supplied the data types will be inferred from the DataFrame dtypes\n",
    "                        index = False,\n",
    "                        save_local = False, # If set to True a csv from the data frame will save in the current directory\n",
    "                        delimiter = ',',\n",
    "                        quotechar = '\"',\n",
    "                        dateformat = 'YYYY-MM-DD',\n",
    "                        timeformat = 'auto',\n",
    "                        region = '',\n",
    "                        append = False)"
   ]
  },
  {
   "cell_type": "code",
   "execution_count": 31,
   "metadata": {},
   "outputs": [
    {
     "name": "stderr",
     "output_type": "stream",
     "text": [
      "Pandas Redshift | 2020-12-04 14:19:52,523 | pandas_redshift.core | INFO | saved file time-d5048317-3e67-41ef-b7c0-f149c3c7be1c.csv in bucket time-d5048317-3e67-41ef-b7c0-f149c3c7be1c.csv\n",
      "Pandas Redshift | 2020-12-04 14:19:52,524 | pandas_redshift.core | INFO | create table time (discovery_date DATE, year INT, month INT, day INT, week INT, weekday INT) diststyle even\n",
      "Pandas Redshift | 2020-12-04 14:19:52,525 | pandas_redshift.core | INFO | CREATING A TABLE IN REDSHIFT\n",
      "Pandas Redshift | 2020-12-04 14:19:52,711 | pandas_redshift.core | INFO | \n",
      "    copy time\n",
      "    from 's3://usfireanalytics/time-d5048317-3e67-41ef-b7c0-f149c3c7be1c.csv'\n",
      "    delimiter ','\n",
      "    ignoreheader 1\n",
      "    csv quote as '\"'\n",
      "    dateformat 'YYYY-MM-DD'\n",
      "    timeformat 'auto'\n",
      "    \n",
      "        access_key_id '********'\n",
      "        secret_access_key '********'\n",
      "        \n",
      "    \n",
      "    ;\n",
      "Pandas Redshift | 2020-12-04 14:19:52,712 | pandas_redshift.core | INFO | FILLING THE TABLE IN REDSHIFT\n"
     ]
    }
   ],
   "source": [
    "pr.pandas_to_redshift(final_df_time,\n",
    "                        'time',\n",
    "                        # Defaults:\n",
    "                        column_data_types = data_types_time, # A list of column data types. As of 2.0.0 If not supplied the data types will be inferred from the DataFrame dtypes\n",
    "                        index = False,\n",
    "                        save_local = False, # If set to True a csv from the data frame will save in the current directory\n",
    "                        delimiter = ',',\n",
    "                        quotechar = '\"',\n",
    "                        dateformat = 'YYYY-MM-DD',\n",
    "                        timeformat = 'auto',\n",
    "                        region = '',\n",
    "                        append = False)"
   ]
  },
  {
   "cell_type": "markdown",
   "metadata": {},
   "source": [
    "## Perform quality checks\n",
    "A simple count quality check to make sure all data landed in Redshift."
   ]
  },
  {
   "cell_type": "code",
   "execution_count": 32,
   "metadata": {},
   "outputs": [
    {
     "data": {
      "text/plain": [
       "True"
      ]
     },
     "execution_count": 32,
     "metadata": {},
     "output_type": "execute_result"
    }
   ],
   "source": [
    "data = pr.redshift_to_pandas('select count(*) from us_fires')\n",
    "len(final_df_fires) == data.values[0][0]"
   ]
  },
  {
   "cell_type": "code",
   "execution_count": 33,
   "metadata": {},
   "outputs": [
    {
     "data": {
      "text/plain": [
       "True"
      ]
     },
     "execution_count": 33,
     "metadata": {},
     "output_type": "execute_result"
    }
   ],
   "source": [
    "data = pr.redshift_to_pandas('select count(*) from county_demographics')\n",
    "len(final_df_c) == data.values[0][0]"
   ]
  },
  {
   "cell_type": "code",
   "execution_count": 34,
   "metadata": {},
   "outputs": [
    {
     "data": {
      "text/plain": [
       "True"
      ]
     },
     "execution_count": 34,
     "metadata": {},
     "output_type": "execute_result"
    }
   ],
   "source": [
    "data = pr.redshift_to_pandas('select count(*) from time')\n",
    "len(final_df_time) == data.values[0][0]"
   ]
  },
  {
   "cell_type": "markdown",
   "metadata": {},
   "source": [
    "# Example analysis of final data"
   ]
  },
  {
   "cell_type": "code",
   "execution_count": 35,
   "metadata": {},
   "outputs": [],
   "source": [
    "data = pr.redshift_to_pandas('SELECT fire_year, SUM(total_pop) FROM county_demographics AS c JOIN us_fires AS f ON c.fips_code = f.fips_code AND c.state_abbr = f.state GROUP BY fire_year')"
   ]
  },
  {
   "cell_type": "code",
   "execution_count": 36,
   "metadata": {},
   "outputs": [
    {
     "name": "stdout",
     "output_type": "stream",
     "text": [
      "Total number of people affected by fires per year (people are counted more than once if affected more than once by fire):\n"
     ]
    },
    {
     "data": {
      "text/html": [
       "<div>\n",
       "<style scoped>\n",
       "    .dataframe tbody tr th:only-of-type {\n",
       "        vertical-align: middle;\n",
       "    }\n",
       "\n",
       "    .dataframe tbody tr th {\n",
       "        vertical-align: top;\n",
       "    }\n",
       "\n",
       "    .dataframe thead th {\n",
       "        text-align: right;\n",
       "    }\n",
       "</style>\n",
       "<table border=\"1\" class=\"dataframe\">\n",
       "  <thead>\n",
       "    <tr style=\"text-align: right;\">\n",
       "      <th></th>\n",
       "      <th>fire_year</th>\n",
       "      <th>sum</th>\n",
       "    </tr>\n",
       "  </thead>\n",
       "  <tbody>\n",
       "    <tr>\n",
       "      <th>9</th>\n",
       "      <td>2011</td>\n",
       "      <td>24112025577</td>\n",
       "    </tr>\n",
       "    <tr>\n",
       "      <th>10</th>\n",
       "      <td>2014</td>\n",
       "      <td>20896062379</td>\n",
       "    </tr>\n",
       "    <tr>\n",
       "      <th>11</th>\n",
       "      <td>2015</td>\n",
       "      <td>18865984110</td>\n",
       "    </tr>\n",
       "    <tr>\n",
       "      <th>12</th>\n",
       "      <td>2006</td>\n",
       "      <td>18193679096</td>\n",
       "    </tr>\n",
       "    <tr>\n",
       "      <th>22</th>\n",
       "      <td>2012</td>\n",
       "      <td>16727681180</td>\n",
       "    </tr>\n",
       "    <tr>\n",
       "      <th>2</th>\n",
       "      <td>2007</td>\n",
       "      <td>16463839127</td>\n",
       "    </tr>\n",
       "    <tr>\n",
       "      <th>23</th>\n",
       "      <td>2013</td>\n",
       "      <td>16030123710</td>\n",
       "    </tr>\n",
       "    <tr>\n",
       "      <th>8</th>\n",
       "      <td>2010</td>\n",
       "      <td>14875325547</td>\n",
       "    </tr>\n",
       "    <tr>\n",
       "      <th>13</th>\n",
       "      <td>2008</td>\n",
       "      <td>14854768454</td>\n",
       "    </tr>\n",
       "    <tr>\n",
       "      <th>15</th>\n",
       "      <td>2009</td>\n",
       "      <td>13953817279</td>\n",
       "    </tr>\n",
       "    <tr>\n",
       "      <th>1</th>\n",
       "      <td>2005</td>\n",
       "      <td>13358353099</td>\n",
       "    </tr>\n",
       "    <tr>\n",
       "      <th>0</th>\n",
       "      <td>2004</td>\n",
       "      <td>8742482489</td>\n",
       "    </tr>\n",
       "    <tr>\n",
       "      <th>3</th>\n",
       "      <td>2003</td>\n",
       "      <td>8414102624</td>\n",
       "    </tr>\n",
       "    <tr>\n",
       "      <th>7</th>\n",
       "      <td>2001</td>\n",
       "      <td>7676810515</td>\n",
       "    </tr>\n",
       "    <tr>\n",
       "      <th>21</th>\n",
       "      <td>2000</td>\n",
       "      <td>7114725811</td>\n",
       "    </tr>\n",
       "    <tr>\n",
       "      <th>14</th>\n",
       "      <td>2002</td>\n",
       "      <td>6935370403</td>\n",
       "    </tr>\n",
       "    <tr>\n",
       "      <th>20</th>\n",
       "      <td>1999</td>\n",
       "      <td>6314868934</td>\n",
       "    </tr>\n",
       "    <tr>\n",
       "      <th>18</th>\n",
       "      <td>1995</td>\n",
       "      <td>5362560658</td>\n",
       "    </tr>\n",
       "    <tr>\n",
       "      <th>19</th>\n",
       "      <td>1996</td>\n",
       "      <td>5238944147</td>\n",
       "    </tr>\n",
       "    <tr>\n",
       "      <th>16</th>\n",
       "      <td>1992</td>\n",
       "      <td>5112251878</td>\n",
       "    </tr>\n",
       "    <tr>\n",
       "      <th>17</th>\n",
       "      <td>1994</td>\n",
       "      <td>5098687846</td>\n",
       "    </tr>\n",
       "    <tr>\n",
       "      <th>4</th>\n",
       "      <td>1993</td>\n",
       "      <td>5079090808</td>\n",
       "    </tr>\n",
       "    <tr>\n",
       "      <th>6</th>\n",
       "      <td>1998</td>\n",
       "      <td>4938539959</td>\n",
       "    </tr>\n",
       "    <tr>\n",
       "      <th>5</th>\n",
       "      <td>1997</td>\n",
       "      <td>3287341496</td>\n",
       "    </tr>\n",
       "  </tbody>\n",
       "</table>\n",
       "</div>"
      ],
      "text/plain": [
       "    fire_year          sum\n",
       "9        2011  24112025577\n",
       "10       2014  20896062379\n",
       "11       2015  18865984110\n",
       "12       2006  18193679096\n",
       "22       2012  16727681180\n",
       "2        2007  16463839127\n",
       "23       2013  16030123710\n",
       "8        2010  14875325547\n",
       "13       2008  14854768454\n",
       "15       2009  13953817279\n",
       "1        2005  13358353099\n",
       "0        2004   8742482489\n",
       "3        2003   8414102624\n",
       "7        2001   7676810515\n",
       "21       2000   7114725811\n",
       "14       2002   6935370403\n",
       "20       1999   6314868934\n",
       "18       1995   5362560658\n",
       "19       1996   5238944147\n",
       "16       1992   5112251878\n",
       "17       1994   5098687846\n",
       "4        1993   5079090808\n",
       "6        1998   4938539959\n",
       "5        1997   3287341496"
      ]
     },
     "execution_count": 36,
     "metadata": {},
     "output_type": "execute_result"
    }
   ],
   "source": [
    "print('Total number of people affected by fires per year (people are counted more than once if affected more than once by fire):')\n",
    "data.sort_values(by='sum', ascending=False)"
   ]
  },
  {
   "cell_type": "markdown",
   "metadata": {},
   "source": [
    "# Other notes\n",
    "**How would Spark or Airflow be incorporated?**\n",
    "\n",
    "The goal is to answer the question of how many people were affected by fires in the United States based on the population of the county, where the fire was discovered. Spark would be incorporated once the data becomes large enough. If the amount of fires increases and the database stores more information then Spark might become interesting. Airflow would come into place if the original fires database was updated regularly and the requirement to have up-to-date data exists.\n",
    "\n",
    "\n",
    "**Clearly state the rationale for the choice of tools and technologies for the project.**\n",
    "\n",
    "I chose Redshift because it was built with analytical purposes in mind, and because the amount of data might just justify its use over AWS RDS.\n",
    "\n",
    "**Propose how often the data should be updated and why.**\n",
    "\n",
    "The data should be updated monthly, maybe weekly in fire-prone months. Fires don't happen often enough for hourly or daily updates.\n",
    "\n",
    "\n",
    "**How to approach the problem differently under the following scenarios:**\n",
    "\n",
    "- _If the data was increased by 100x:_ Use Spark to manage the increased workload size.\n",
    "- _If the pipelines were run on a daily basis by 7am_: Use Airflow to manage the data pipelines.\n",
    "- _If the database needed to be accessed by 100+ people:_ Redshift can handle such a load. Depending on how many people, one could increase the number of nodes or the performance of the nodes."
   ]
  },
  {
   "cell_type": "code",
   "execution_count": null,
   "metadata": {},
   "outputs": [],
   "source": []
  }
 ],
 "metadata": {
  "kernelspec": {
   "display_name": "Python 3",
   "language": "python",
   "name": "python3"
  },
  "language_info": {
   "codemirror_mode": {
    "name": "ipython",
    "version": 3
   },
   "file_extension": ".py",
   "mimetype": "text/x-python",
   "name": "python",
   "nbconvert_exporter": "python",
   "pygments_lexer": "ipython3",
   "version": "3.8.2"
  }
 },
 "nbformat": 4,
 "nbformat_minor": 4
}
